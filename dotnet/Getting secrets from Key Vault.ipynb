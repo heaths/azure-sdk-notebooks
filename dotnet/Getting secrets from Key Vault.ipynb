{
 "cells": [
  {
   "cell_type": "markdown",
   "metadata": {},
   "source": [
    "# Getting secrets from Key Vault\n",
    "\n",
    "You can use `DefaultAzureCredential` to easily authenticate in both development and production environments without changing code. This credential type detects common production environment configurations and, failing to find any, detects common developer credentials like those from the [Azure CLI](https://aka.ms/azure-cli) or [Visual Studio](https://www.visualstudio.com).\n",
    "\n",
    "## Creating the SecretClient\n",
    "\n",
    "To create a `SecretClient`, you'll need to know the URI to your Key Vault. This may appear as \"DNS Name\" in the [Azure Portal](https://portal.azure.com/#blade/HubsExtension/BrowseResource/resourceType/Microsoft.KeyVault%2Fvaults). Replace \"heathskv2.vault.azure.net\" with your vault URI."
   ]
  },
  {
   "cell_type": "code",
   "execution_count": 13,
   "metadata": {},
   "outputs": [],
   "source": [
    "#r \"nuget:Azure.Identity\"\n",
    "#r \"nuget:Azure.Security.KeyVault.Secrets\"\n",
    "\n",
    "#pragma warning disable CS1701\n",
    "\n",
    "using Azure.Identity;\n",
    "using Azure.Security.KeyVault.Secrets;\n",
    "\n",
    "Uri vaultUri = new Uri(\"https://heathskv2.vault.azure.net\");\n",
    "DefaultAzureCredential credential = new DefaultAzureCredential();\n",
    "SecretClient client = new SecretClient(vaultUri, credential);"
   ]
  },
  {
   "cell_type": "markdown",
   "metadata": {},
   "source": [
    "You'll need to authenticate. You can do this easily using the CLI:"
   ]
  },
  {
   "cell_type": "code",
   "execution_count": 15,
   "metadata": {},
   "outputs": [
    {
     "name": "stdout",
     "output_type": "stream",
     "text": [
      "To sign in, use a web browser to open the page https://microsoft.com/devicelogin and enter the code FWD79QV52 to authenticate.\n",
      "[\n",
      "  {\n",
      "    \"cloudName\": \"AzureCloud\",\n",
      "    \"homeTenantId\": \"96be4b7a-defb-4dc2-a31f-49ee6145d5ab\",\n",
      "    \"id\": \"c649122d-c5c8-40b0-b95c-e09da8dbfdf0\",\n",
      "    \"isDefault\": true,\n",
      "    \"managedByTenants\": [],\n",
      "    \"name\": \"Windows Azure MSDN - Visual Studio Ultimate\",\n",
      "    \"state\": \"Enabled\",\n",
      "    \"tenantId\": \"96be4b7a-defb-4dc2-a31f-49ee6145d5ab\",\n",
      "    \"user\": {\n",
      "      \"name\": \"heaths@outlook.com\",\n",
      "      \"type\": \"user\"\n",
      "    }\n",
      "  },\n",
      "  {\n",
      "    \"cloudName\": \"AzureCloud\",\n",
      "    \"homeTenantId\": \"96be4b7a-defb-4dc2-a31f-49ee6145d5ab\",\n",
      "    \"id\": \"22f692c2-e192-4019-b0f8-884cefc0f1a1\",\n",
      "    \"isDefault\": false,\n",
      "    \"managedByTenants\": [],\n",
      "    \"name\": \"Visual Studio Enterprise\",\n",
      "    \"state\": \"Enabled\",\n",
      "    \"tenantId\": \"96be4b7a-defb-4dc2-a31f-49ee6145d5ab\",\n",
      "    \"user\": {\n",
      "      \"name\": \"heaths@outlook.com\",\n",
      "      \"type\": \"user\"\n",
      "    }\n",
      "  }\n",
      "]\n"
     ]
    }
   ],
   "source": [
    "#!pwsh\n",
    "az login"
   ]
  },
  {
   "cell_type": "markdown",
   "metadata": {},
   "source": [
    "## Enumerating secrets\n",
    "\n",
    "When you enumerate secrets, the secret value is not retrieved. This is because the \"list\" permission for enumerating secrets can be assigned separately from the \"get\" permission for getting secrets. Instead, a `SecretProperties` object is returned which provides the name and other information.\n",
    "\n",
    "Given the name, you can retrieve the secret value:"
   ]
  },
  {
   "cell_type": "code",
   "execution_count": 16,
   "metadata": {},
   "outputs": [
    {
     "name": "stdout",
     "output_type": "stream",
     "text": [
      "secret-value\n"
     ]
    }
   ],
   "source": [
    "#pragma warning disable CS1701\n",
    "\n",
    "await foreach (SecretProperties properties in client.GetPropertiesOfSecretsAsync())\n",
    "{\n",
    "    KeyVaultSecret secret = await client.GetSecretAsync(properties.Name);\n",
    "    Console.WriteLine(secret.Value);\n",
    "}"
   ]
  }
 ],
 "metadata": {
  "kernelspec": {
   "display_name": ".NET (C#)",
   "language": "C#",
   "name": ".net-csharp"
  },
  "language_info": {
   "file_extension": ".cs",
   "mimetype": "text/x-csharp",
   "name": "C#",
   "pygments_lexer": "csharp",
   "version": "8.0"
  }
 },
 "nbformat": 4,
 "nbformat_minor": 4
}
