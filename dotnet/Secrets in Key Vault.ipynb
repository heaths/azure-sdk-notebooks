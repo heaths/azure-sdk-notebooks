{
 "cells": [
  {
   "cell_type": "markdown",
   "metadata": {},
   "source": [
    "# Secrets in Key Vault\n",
    "\n",
    "You can use `DefaultAzureCredential` to easily authenticate in both development and production environments without changing code. This credential type detects common production environment configurations and, failing to find any, detects common developer credentials like those from the [Azure CLI](https://aka.ms/azure-cli) or [Visual Studio](https://www.visualstudio.com).\n",
    "\n",
    "## Creating the SecretClient\n",
    "\n",
    "To create a `SecretClient`, you'll need to know the URI to your Key Vault. This may appear as \"DNS Name\" in the [Azure Portal](https://portal.azure.com/#blade/HubsExtension/BrowseResource/resourceType/Microsoft.KeyVault%2Fvaults). Replace \"heathskv2.vault.azure.net\" with your vault URI."
   ]
  },
  {
   "cell_type": "code",
   "execution_count": 1,
   "metadata": {},
   "outputs": [
    {
     "data": {
      "text/html": [
       "\r\n",
       "<div>\r\n",
       "    <div id='dotnet-interactive-this-cell-515.9b74a1f51a9e43debee91a2159a481be' style='display: none'>\r\n",
       "        The below script needs to be able to find the current output cell; this is an easy method to get it.\r\n",
       "    </div>\r\n",
       "    <script type='text/javascript'>\r\n",
       "// ensure `require` is available globally\r\n",
       "if (typeof require !== typeof Function || typeof require.config !== typeof Function) {\r\n",
       "    let require_script = document.createElement('script');\r\n",
       "    require_script.setAttribute('src', 'https://cdnjs.cloudflare.com/ajax/libs/require.js/2.3.6/require.min.js');\r\n",
       "    require_script.setAttribute('type', 'text/javascript');\r\n",
       "    require_script.onload = function () {\r\n",
       "        loadDotnetInteractiveApi();\r\n",
       "    };\r\n",
       "\r\n",
       "    document.getElementsByTagName('head')[0].appendChild(require_script);\r\n",
       "}\r\n",
       "else {\r\n",
       "    loadDotnetInteractiveApi();\r\n",
       "}\r\n",
       "\r\n",
       "async function probeAddresses(probingAddresses) {\r\n",
       "    function timeout(ms, promise) {\r\n",
       "        return new Promise(function (resolve, reject) {\r\n",
       "            setTimeout(function () {\r\n",
       "                reject(new Error('timeout'))\r\n",
       "            }, ms)\r\n",
       "            promise.then(resolve, reject)\r\n",
       "        })\r\n",
       "    }\r\n",
       "\r\n",
       "    if (Array.isArray(probingAddresses)) {\r\n",
       "        for (let i = 0; i < probingAddresses.length; i++) {\r\n",
       "\r\n",
       "            let rootUrl = probingAddresses[i];\r\n",
       "\r\n",
       "            if (!rootUrl.endsWith('/')) {\r\n",
       "                rootUrl = `${rootUrl}/`;\r\n",
       "            }\r\n",
       "\r\n",
       "            try {\r\n",
       "                let response = await timeout(1000, fetch(`${rootUrl}discovery`, {\r\n",
       "                    method: 'POST',\r\n",
       "                    cache: 'no-cache',\r\n",
       "                    mode: 'cors',\r\n",
       "                    timeout: 1000,\r\n",
       "                    headers: {\r\n",
       "                        'Content-Type': 'text/plain'\r\n",
       "                    },\r\n",
       "                    body: probingAddresses[i]\r\n",
       "                }));\r\n",
       "\r\n",
       "                if (response.status == 200) {\r\n",
       "                    return rootUrl;\r\n",
       "                }\r\n",
       "            }\r\n",
       "            catch (e) { }\r\n",
       "        }\r\n",
       "    }\r\n",
       "}\r\n",
       "\r\n",
       "function loadDotnetInteractiveApi() {\r\n",
       "    probeAddresses([\"http://172.17.0.2:1024/\", \"http://127.0.0.1:1024/\"])\r\n",
       "        .then((root) => {\r\n",
       "            // use probing to find host url and api resources\r\n",
       "            // load interactive helpers and language services\r\n",
       "            let dotnetInteractiveRequire = require.config({\r\n",
       "                context: '515.9b74a1f51a9e43debee91a2159a481be',\r\n",
       "                paths: {\r\n",
       "                    'dotnet-interactive': `${root}resources`\r\n",
       "                }\r\n",
       "            }) || require;\r\n",
       "\r\n",
       "            let dotnetInteractiveExtensionsRequire = require.config({\r\n",
       "                context: '515.9b74a1f51a9e43debee91a2159a481be',\r\n",
       "                paths: {\r\n",
       "                    'dotnet-interactive-extensions': `${root}extensions`\r\n",
       "                }\r\n",
       "            }) || require;\r\n",
       "\r\n",
       "            if (!window.dotnetInteractiveRequire) {\r\n",
       "                window.dotnetInteractiveRequire = dotnetInteractiveRequire;\r\n",
       "            }\r\n",
       "\r\n",
       "            if (!window.dotnetInteractiveExtensionsRequire) {\r\n",
       "                window.dotnetInteractiveExtensionsRequire = dotnetInteractiveExtensionsRequire;\r\n",
       "            }\r\n",
       "\r\n",
       "            window.getExtensionRequire = function(extensionName, extensionCacheBuster) {\r\n",
       "                let paths = {};\r\n",
       "                paths[extensionName] = `${root}extensions/${extensionName}/resources/`;\r\n",
       "                \r\n",
       "                let internalRequire = require.config({\r\n",
       "                    context: extensionCacheBuster,\r\n",
       "                    paths: paths,\r\n",
       "                    urlArgs: `cacheBuster=${extensionCacheBuster}`\r\n",
       "                    }) || require;\r\n",
       "\r\n",
       "                return internalRequire\r\n",
       "            };\r\n",
       "        \r\n",
       "            dotnetInteractiveRequire([\r\n",
       "                    'dotnet-interactive/dotnet-interactive'\r\n",
       "                ],\r\n",
       "                function (dotnet) {\r\n",
       "                    dotnet.init(window);\r\n",
       "                },\r\n",
       "                function (error) {\r\n",
       "                    console.log(error);\r\n",
       "                }\r\n",
       "            );\r\n",
       "        })\r\n",
       "        .catch(error => {console.log(error);});\r\n",
       "    }\r\n",
       "    </script>\r\n",
       "</div>"
      ]
     },
     "metadata": {},
     "output_type": "display_data"
    },
    {
     "data": {
      "text/plain": [
       "Installed package Azure.Security.KeyVault.Secrets version 4.1.0"
      ]
     },
     "metadata": {},
     "output_type": "display_data"
    },
    {
     "data": {
      "text/plain": [
       "Installed package Azure.Identity version 1.2.2"
      ]
     },
     "metadata": {},
     "output_type": "display_data"
    }
   ],
   "source": [
    "#r \"nuget:Azure.Identity\"\n",
    "#r \"nuget:Azure.Security.KeyVault.Secrets\"\n",
    "\n",
    "#pragma warning disable CS1701\n",
    "\n",
    "using Azure.Identity;\n",
    "using Azure.Security.KeyVault.Secrets;\n",
    "\n",
    "Uri vaultUri = new Uri(\"https://heathskv2.vault.azure.net\");\n",
    "DefaultAzureCredential credential = new DefaultAzureCredential();\n",
    "SecretClient client = new SecretClient(vaultUri, credential);"
   ]
  },
  {
   "cell_type": "markdown",
   "metadata": {},
   "source": [
    "You'll need to authenticate. You can do this easily using the CLI:"
   ]
  },
  {
   "cell_type": "code",
   "execution_count": 2,
   "metadata": {},
   "outputs": [
    {
     "name": "stdout",
     "output_type": "stream",
     "text": [
      "To sign in, use a web browser to open the page https://microsoft.com/devicelogin and enter the code FYY85TLJH to authenticate.\n",
      "[\n",
      "  {\n",
      "    \"cloudName\": \"AzureCloud\",\n",
      "    \"homeTenantId\": \"96be4b7a-defb-4dc2-a31f-49ee6145d5ab\",\n",
      "    \"id\": \"c649122d-c5c8-40b0-b95c-e09da8dbfdf0\",\n",
      "    \"isDefault\": true,\n",
      "    \"managedByTenants\": [],\n",
      "    \"name\": \"Windows Azure MSDN - Visual Studio Ultimate\",\n",
      "    \"state\": \"Enabled\",\n",
      "    \"tenantId\": \"96be4b7a-defb-4dc2-a31f-49ee6145d5ab\",\n",
      "    \"user\": {\n",
      "      \"name\": \"heaths@outlook.com\",\n",
      "      \"type\": \"user\"\n",
      "    }\n",
      "  },\n",
      "  {\n",
      "    \"cloudName\": \"AzureCloud\",\n",
      "    \"homeTenantId\": \"96be4b7a-defb-4dc2-a31f-49ee6145d5ab\",\n",
      "    \"id\": \"22f692c2-e192-4019-b0f8-884cefc0f1a1\",\n",
      "    \"isDefault\": false,\n",
      "    \"managedByTenants\": [],\n",
      "    \"name\": \"Visual Studio Enterprise\",\n",
      "    \"state\": \"Enabled\",\n",
      "    \"tenantId\": \"96be4b7a-defb-4dc2-a31f-49ee6145d5ab\",\n",
      "    \"user\": {\n",
      "      \"name\": \"heaths@outlook.com\",\n",
      "      \"type\": \"user\"\n",
      "    }\n",
      "  }\n",
      "]\n"
     ]
    }
   ],
   "source": [
    "#!pwsh\n",
    "az login"
   ]
  },
  {
   "cell_type": "markdown",
   "metadata": {},
   "source": [
    "## Creating a secret\n",
    "\n",
    "To create a secret, you need to specify a name and value:"
   ]
  },
  {
   "cell_type": "code",
   "execution_count": 3,
   "metadata": {},
   "outputs": [],
   "source": [
    "#pragma warning disable CS1701\n",
    "\n",
    "await client.SetSecretAsync(\"secret-name\", \"secret-value\");"
   ]
  },
  {
   "cell_type": "markdown",
   "metadata": {},
   "source": [
    "## Retrieving secrets\n",
    "\n",
    "When you enumerate secrets, the secret value is not retrieved. This is because the \"list\" permission for enumerating secrets can be assigned separately from the \"get\" permission for getting secrets. Instead, a `SecretProperties` object is returned which provides the name and other information.\n",
    "\n",
    "Given the name, you can retrieve the secret value:"
   ]
  },
  {
   "cell_type": "code",
   "execution_count": 4,
   "metadata": {},
   "outputs": [
    {
     "name": "stdout",
     "output_type": "stream",
     "text": [
      "Secret: secret-value, version: 3a27b50ad13d4933b87706a901966424\n"
     ]
    }
   ],
   "source": [
    "#pragma warning disable CS1701\n",
    "\n",
    "await foreach (SecretProperties properties in client.GetPropertiesOfSecretsAsync())\n",
    "{\n",
    "    KeyVaultSecret secret = await client.GetSecretAsync(properties.Name);\n",
    "    Console.WriteLine($\"Secret: {secret.Value}, version: {secret.Properties.Version}\");\n",
    "}"
   ]
  },
  {
   "cell_type": "markdown",
   "metadata": {},
   "source": [
    "## Updating a secret\n",
    "\n",
    "Updating a secret actually creates a new version. Secrets are immutable, and you can retrieve past version of them."
   ]
  },
  {
   "cell_type": "code",
   "execution_count": 5,
   "metadata": {},
   "outputs": [
    {
     "name": "stdout",
     "output_type": "stream",
     "text": [
      "Secret: new secret value, version: 0b359bdee56c4ea78bb90d5e2c800b3d\n"
     ]
    }
   ],
   "source": [
    "#pragma warning disable CS1701\n",
    "\n",
    "KeyVaultSecret secret = await client.SetSecretAsync(\"secret-name\", \"new secret value\");\n",
    "Console.WriteLine($\"Secret: {secret.Value}, version: {secret.Properties.Version}\");"
   ]
  },
  {
   "cell_type": "markdown",
   "metadata": {},
   "source": [
    "## Deleting secrets\n",
    "\n",
    "Deleting a secret is straight forward, but since it can take time you must wait for the operation to complete."
   ]
  },
  {
   "cell_type": "code",
   "execution_count": 6,
   "metadata": {},
   "outputs": [
    {
     "name": "stderr",
     "output_type": "stream",
     "text": [
      "\n",
      "warning CS1701: Assuming assembly reference 'Azure.Core, Version=1.0.2.0, Culture=neutral, PublicKeyToken=92742159e12e44c8' used by 'Azure.Security.KeyVault.Secrets' matches identity 'Azure.Core, Version=1.4.1.0, Culture=neutral, PublicKeyToken=92742159e12e44c8' of 'Azure.Core', you may need to supply runtime policy\n",
      "\n"
     ]
    }
   ],
   "source": [
    "#pragma warning disable CS1701\n",
    "\n",
    "DeleteSecretOperation operation = await client.StartDeleteSecretAsync(\"secret-name\");\n",
    "await operation.WaitForCompletionAsync();"
   ]
  },
  {
   "cell_type": "markdown",
   "metadata": {},
   "source": [
    "If soft delete is enabled for your Key Vault - it is enabled by default now - the secret is not completely gone until it's purged:"
   ]
  },
  {
   "cell_type": "code",
   "execution_count": 7,
   "metadata": {},
   "outputs": [],
   "source": [
    "#pragma warning disable CS1701\n",
    "\n",
    "await client.PurgeDeletedSecretAsync(\"secret-name\");"
   ]
  },
  {
   "cell_type": "markdown",
   "metadata": {},
   "source": [
    "## Links\n",
    "\n",
    "* [About Azure Key Vault secrets](https://docs.microsoft.com/azure/key-vault/secrets/about-secrets)\n",
    "* [Azure Key Vault secret client library for .NET](https://docs.microsoft.com/dotnet/api/overview/azure/security.keyvault.secrets-readme?view=azure-dotnet)"
   ]
  }
 ],
 "metadata": {
  "kernelspec": {
   "display_name": ".NET (C#)",
   "language": "C#",
   "name": ".net-csharp"
  },
  "language_info": {
   "file_extension": ".cs",
   "mimetype": "text/x-csharp",
   "name": "C#",
   "pygments_lexer": "csharp",
   "version": "8.0"
  }
 },
 "nbformat": 4,
 "nbformat_minor": 4
}
