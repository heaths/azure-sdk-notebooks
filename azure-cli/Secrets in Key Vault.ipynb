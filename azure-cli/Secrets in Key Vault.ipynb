{
 "cells": [
  {
   "cell_type": "markdown",
   "metadata": {},
   "source": [
    "# Secrets in Key Vault\n",
    "\n",
    "You can manage secrets in [Azure Key Vault](https://docs.microsoft.com/azure/key-vault/secrets/about-secrets) using the [Azure CLI](https://aka.ms/azure-cli). The CLI is powerful cross-platform tool to manage many different types of resources in Azure including Key Vault secrets.\n",
    "\n",
    "In this sample, we'll create a Key Vault and manage a secret in that vault.\n",
    "\n",
    "## Creating a Key Vault\n",
    "\n",
    "First you'll need to authenticate to Azure:"
   ]
  },
  {
   "cell_type": "code",
   "execution_count": 1,
   "metadata": {},
   "outputs": [
    {
     "name": "stdout",
     "output_type": "stream",
     "text": [
      "\u001b[33mTo sign in, use a web browser to open the page https://microsoft.com/devicelogin and enter the code FKTRXU3U5 to authenticate.\u001b[0m\n",
      "[\n",
      "  {\n",
      "    \"cloudName\": \"AzureCloud\",\n",
      "    \"homeTenantId\": \"96be4b7a-defb-4dc2-a31f-49ee6145d5ab\",\n",
      "    \"id\": \"c649122d-c5c8-40b0-b95c-e09da8dbfdf0\",\n",
      "    \"isDefault\": true,\n",
      "    \"managedByTenants\": [],\n",
      "    \"name\": \"Windows Azure MSDN - Visual Studio Ultimate\",\n",
      "    \"state\": \"Enabled\",\n",
      "    \"tenantId\": \"96be4b7a-defb-4dc2-a31f-49ee6145d5ab\",\n",
      "    \"user\": {\n",
      "      \"name\": \"heaths@outlook.com\",\n",
      "      \"type\": \"user\"\n",
      "    }\n",
      "  },\n",
      "  {\n",
      "    \"cloudName\": \"AzureCloud\",\n",
      "    \"homeTenantId\": \"96be4b7a-defb-4dc2-a31f-49ee6145d5ab\",\n",
      "    \"id\": \"22f692c2-e192-4019-b0f8-884cefc0f1a1\",\n",
      "    \"isDefault\": false,\n",
      "    \"managedByTenants\": [],\n",
      "    \"name\": \"Visual Studio Enterprise\",\n",
      "    \"state\": \"Enabled\",\n",
      "    \"tenantId\": \"96be4b7a-defb-4dc2-a31f-49ee6145d5ab\",\n",
      "    \"user\": {\n",
      "      \"name\": \"heaths@outlook.com\",\n",
      "      \"type\": \"user\"\n",
      "    }\n",
      "  }\n",
      "]\n",
      "\u001b[0m"
     ]
    }
   ],
   "source": [
    "az login"
   ]
  },
  {
   "cell_type": "markdown",
   "metadata": {},
   "source": [
    "Next you'll create a resource group and create a vault within that resource group."
   ]
  },
  {
   "cell_type": "code",
   "execution_count": 4,
   "metadata": {},
   "outputs": [
    {
     "name": "stdout",
     "output_type": "stream",
     "text": [
      "{\n",
      "  \"id\": \"/subscriptions/c649122d-c5c8-40b0-b95c-e09da8dbfdf0/resourceGroups/rg-isample-keyvault\",\n",
      "  \"location\": \"westus2\",\n",
      "  \"managedBy\": null,\n",
      "  \"name\": \"rg-isample-keyvault\",\n",
      "  \"properties\": {\n",
      "    \"provisioningState\": \"Succeeded\"\n",
      "  },\n",
      "  \"tags\": null,\n",
      "  \"type\": \"Microsoft.Resources/resourceGroups\"\n",
      "}\n",
      "{[K - Finished ..g ..\n",
      "  \"id\": \"/subscriptions/c649122d-c5c8-40b0-b95c-e09da8dbfdf0/resourceGroups/rg-isample-keyvault/providers/Microsoft.KeyVault/vaults/isample-keyvault\",\n",
      "  \"location\": \"westus2\",\n",
      "  \"name\": \"isample-keyvault\",\n",
      "  \"properties\": {\n",
      "    \"accessPolicies\": [\n",
      "      {\n",
      "        \"applicationId\": null,\n",
      "        \"objectId\": \"3399e42e-bb76-4cb4-b564-e68e8a1df8cd\",\n",
      "        \"permissions\": {\n",
      "          \"certificates\": [\n",
      "            \"get\",\n",
      "            \"list\",\n",
      "            \"delete\",\n",
      "            \"create\",\n",
      "            \"import\",\n",
      "            \"update\",\n",
      "            \"managecontacts\",\n",
      "            \"getissuers\",\n",
      "            \"listissuers\",\n",
      "            \"setissuers\",\n",
      "            \"deleteissuers\",\n",
      "            \"manageissuers\",\n",
      "            \"recover\"\n",
      "          ],\n",
      "          \"keys\": [\n",
      "            \"get\",\n",
      "            \"create\",\n",
      "            \"delete\",\n",
      "            \"list\",\n",
      "            \"update\",\n",
      "            \"import\",\n",
      "            \"backup\",\n",
      "            \"restore\",\n",
      "            \"recover\"\n",
      "          ],\n",
      "          \"secrets\": [\n",
      "            \"get\",\n",
      "            \"list\",\n",
      "            \"set\",\n",
      "            \"delete\",\n",
      "            \"backup\",\n",
      "            \"restore\",\n",
      "            \"recover\"\n",
      "          ],\n",
      "          \"storage\": [\n",
      "            \"get\",\n",
      "            \"list\",\n",
      "            \"delete\",\n",
      "            \"set\",\n",
      "            \"update\",\n",
      "            \"regeneratekey\",\n",
      "            \"setsas\",\n",
      "            \"listsas\",\n",
      "            \"getsas\",\n",
      "            \"deletesas\"\n",
      "          ]\n",
      "        },\n",
      "        \"tenantId\": \"96be4b7a-defb-4dc2-a31f-49ee6145d5ab\"\n",
      "      }\n",
      "    ],\n",
      "    \"createMode\": null,\n",
      "    \"enablePurgeProtection\": null,\n",
      "    \"enableRbacAuthorization\": null,\n",
      "    \"enableSoftDelete\": true,\n",
      "    \"enabledForDeployment\": false,\n",
      "    \"enabledForDiskEncryption\": null,\n",
      "    \"enabledForTemplateDeployment\": null,\n",
      "    \"networkAcls\": null,\n",
      "    \"privateEndpointConnections\": null,\n",
      "    \"provisioningState\": \"Succeeded\",\n",
      "    \"sku\": {\n",
      "      \"name\": \"standard\"\n",
      "    },\n",
      "    \"softDeleteRetentionInDays\": 90,\n",
      "    \"tenantId\": \"96be4b7a-defb-4dc2-a31f-49ee6145d5ab\",\n",
      "    \"vaultUri\": \"https://isample-keyvault.vault.azure.net/\"\n",
      "  },\n",
      "  \"resourceGroup\": \"rg-isample-keyvault\",\n",
      "  \"tags\": {},\n",
      "  \"type\": \"Microsoft.KeyVault/vaults\"\n",
      "}\n",
      "\u001b[K\u001b[0m"
     ]
    }
   ],
   "source": [
    "az group create -g rg-isample-keyvault -l westus2\n",
    "az keyvault create -g rg-isample-keyvault -l westus2 -n isample-keyvault"
   ]
  },
  {
   "cell_type": "markdown",
   "metadata": {},
   "source": [
    "## Creating a secret\n",
    "\n",
    "To create a secret, simply specify a name and value:"
   ]
  },
  {
   "cell_type": "code",
   "execution_count": 6,
   "metadata": {},
   "outputs": [
    {
     "name": "stdout",
     "output_type": "stream",
     "text": [
      "{\n",
      "  \"attributes\": {\n",
      "    \"created\": \"2020-09-09T07:41:38+00:00\",\n",
      "    \"enabled\": true,\n",
      "    \"expires\": null,\n",
      "    \"notBefore\": null,\n",
      "    \"recoveryLevel\": \"Recoverable+Purgeable\",\n",
      "    \"updated\": \"2020-09-09T07:41:38+00:00\"\n",
      "  },\n",
      "  \"contentType\": null,\n",
      "  \"id\": \"https://isample-keyvault.vault.azure.net/secrets/secret-name/93ab80eb955244869caf65811125d9c8\",\n",
      "  \"kid\": null,\n",
      "  \"managed\": null,\n",
      "  \"name\": \"secret-name\",\n",
      "  \"tags\": {\n",
      "    \"file-encoding\": \"utf-8\"\n",
      "  },\n",
      "  \"value\": \"secret value\"\n",
      "}\n",
      "\u001b[0m"
     ]
    }
   ],
   "source": [
    "az keyvault secret set --vault-name isample-keyvault -n secret-name --value \"secret value\""
   ]
  },
  {
   "cell_type": "markdown",
   "metadata": {},
   "source": [
    "\n",
    "\n",
    "## Updating a secret\n",
    "\n",
    "Updating a secret actually creates a new version. Secrets are immutable, and you can retrieve past version of them."
   ]
  },
  {
   "cell_type": "code",
   "execution_count": 7,
   "metadata": {},
   "outputs": [
    {
     "name": "stdout",
     "output_type": "stream",
     "text": [
      "{\n",
      "  \"attributes\": {\n",
      "    \"created\": \"2020-09-09T07:43:28+00:00\",\n",
      "    \"enabled\": true,\n",
      "    \"expires\": null,\n",
      "    \"notBefore\": null,\n",
      "    \"recoveryLevel\": \"Recoverable+Purgeable\",\n",
      "    \"updated\": \"2020-09-09T07:43:28+00:00\"\n",
      "  },\n",
      "  \"contentType\": null,\n",
      "  \"id\": \"https://isample-keyvault.vault.azure.net/secrets/secret-name/fe1f4779d8574ee680a1d07ed75434e1\",\n",
      "  \"kid\": null,\n",
      "  \"managed\": null,\n",
      "  \"name\": \"secret-name\",\n",
      "  \"tags\": {\n",
      "    \"file-encoding\": \"utf-8\"\n",
      "  },\n",
      "  \"value\": \"new secret value\"\n",
      "}\n",
      "\u001b[0m"
     ]
    }
   ],
   "source": [
    "az keyvault secret set --vault-name isample-keyvault -n secret-name --value \"new secret value\""
   ]
  },
  {
   "cell_type": "markdown",
   "metadata": {},
   "source": [
    "Notice that the `id` changed - specifically the path segment after the secret name. Each new chnage to the secret creates a new version. For this reason, the full secret ID including the version is used for cryptographic operations so that the right value is always used.\n",
    "\n",
    "## Deleting secrets\n",
    "\n",
    "To delete a secret, simply run:"
   ]
  },
  {
   "cell_type": "code",
   "execution_count": 8,
   "metadata": {},
   "outputs": [
    {
     "name": "stdout",
     "output_type": "stream",
     "text": [
      "\u001b[33mWarning! If you have soft-delete protection enabled on this key vault, this secret will be moved to the soft deleted state. You will not be able to create a secret with the same name within this key vault until the secret has been purged from the soft-deleted state. Please see the following documentation for additional guidance.\n",
      "https://docs.microsoft.com/en-us/azure/key-vault/general/soft-delete-overview\u001b[39m\n",
      "{\n",
      "  \"attributes\": {\n",
      "    \"created\": \"2020-09-09T07:43:28+00:00\",\n",
      "    \"enabled\": true,\n",
      "    \"expires\": null,\n",
      "    \"notBefore\": null,\n",
      "    \"recoveryLevel\": \"Recoverable+Purgeable\",\n",
      "    \"updated\": \"2020-09-09T07:43:28+00:00\"\n",
      "  },\n",
      "  \"contentType\": null,\n",
      "  \"deletedDate\": \"2020-09-09T07:46:11+00:00\",\n",
      "  \"id\": \"https://isample-keyvault.vault.azure.net/secrets/secret-name/fe1f4779d8574ee680a1d07ed75434e1\",\n",
      "  \"kid\": null,\n",
      "  \"managed\": null,\n",
      "  \"name\": \"secret-name\",\n",
      "  \"recoveryId\": \"https://isample-keyvault.vault.azure.net/deletedsecrets/secret-name\",\n",
      "  \"scheduledPurgeDate\": \"2020-12-08T07:46:11+00:00\",\n",
      "  \"tags\": {\n",
      "    \"file-encoding\": \"utf-8\"\n",
      "  },\n",
      "  \"value\": null\n",
      "}\n",
      "\u001b[0m"
     ]
    }
   ],
   "source": [
    "az keyvault secret delete --vault-name isample-keyvault -n secret-name"
   ]
  },
  {
   "cell_type": "markdown",
   "metadata": {},
   "source": [
    "Because soft delete is enabled, we have to purge the secret before we can create a new one with the same name. You could also recover this secret any time before it's automatically purged (default is 90 days)."
   ]
  },
  {
   "cell_type": "code",
   "execution_count": 9,
   "metadata": {},
   "outputs": [
    {
     "name": "stdout",
     "output_type": "stream",
     "text": [
      "\u001b[91mThe user, group or application 'appid=04b07795-8ddb-461a-bbee-02f9e1bf7b46;oid=3399e42e-bb76-4cb4-b564-e68e8a1df8cd;numgroups=1;iss=https://sts.windows.net/96be4b7a-defb-4dc2-a31f-49ee6145d5ab/' does not have secrets purge permission on key vault 'isample-keyvault;location=westus2'. For help resolving this issue, please see https://go.microsoft.com/fwlink/?linkid=2125287\u001b[0m\n",
      "\u001b[0m"
     ]
    },
    {
     "ename": "",
     "evalue": "1",
     "output_type": "error",
     "traceback": []
    }
   ],
   "source": [
    "az keyvault secret purge --id https://isample-keyvault.vault.azure.net/deletedsecrets/secret-name"
   ]
  },
  {
   "cell_type": "markdown",
   "metadata": {},
   "source": [
    "Here we use the `recoveryId` to purge the secret and all its versions.\n",
    "\n",
    "## Links\n",
    "\n",
    "* [About Azure Key Vault secrets](https://docs.microsoft.com/azure/key-vault/secrets/about-secrets)"
   ]
  }
 ],
 "metadata": {
  "kernelspec": {
   "display_name": "Bash",
   "language": "bash",
   "name": "bash"
  },
  "language_info": {
   "codemirror_mode": "shell",
   "file_extension": ".sh",
   "mimetype": "text/x-sh",
   "name": "bash"
  }
 },
 "nbformat": 4,
 "nbformat_minor": 4
}
